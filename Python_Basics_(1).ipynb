{
  "nbformat": 4,
  "nbformat_minor": 0,
  "metadata": {
    "colab": {
      "name": "Python Basics.",
      "provenance": [],
      "collapsed_sections": []
    },
    "kernelspec": {
      "name": "python3",
      "display_name": "Python 3"
    },
    "language_info": {
      "name": "python"
    }
  },
  "cells": [
    {
      "cell_type": "code",
      "execution_count": 1,
      "metadata": {
        "colab": {
          "base_uri": "https://localhost:8080/"
        },
        "id": "IlxCjQC82kU4",
        "outputId": "0ef189e4-3228-44b3-82c2-23578dc2d06f"
      },
      "outputs": [
        {
          "output_type": "stream",
          "name": "stdout",
          "text": [
            "Enter the value of n: 6\n",
            "738\n"
          ]
        }
      ],
      "source": [
        "n=int(input(\"Enter the value of n: \"))\n",
        "temp=str(n)\n",
        "temp1=temp+temp\n",
        "temp2=temp+temp+temp\n",
        "cal=n+int(temp1)+int(temp2)\n",
        "print(cal)\n",
        "\n"
      ]
    },
    {
      "cell_type": "code",
      "source": [
        "x = 5 \n",
        "x = x + 100*x\n",
        "print(x)"
      ],
      "metadata": {
        "colab": {
          "base_uri": "https://localhost:8080/"
        },
        "id": "rvAZGzz336er",
        "outputId": "193305ec-c95a-41f7-8b0d-c36e097d19d6"
      },
      "execution_count": 2,
      "outputs": [
        {
          "output_type": "stream",
          "name": "stdout",
          "text": [
            "505\n"
          ]
        }
      ]
    },
    {
      "cell_type": "code",
      "source": [
        "First_Name = input(\"Enter your First Name:\")\n",
        "last_Name = input(\"Enter your Last Name:\")\n",
        "print(\"Hello\"+\" \"+First_Name+\" \"+last_Name)\n"
      ],
      "metadata": {
        "colab": {
          "base_uri": "https://localhost:8080/"
        },
        "id": "8POGGVjK4E2_",
        "outputId": "e99d7113-4d0b-4cf7-c731-6f2dfc7ebaba"
      },
      "execution_count": 8,
      "outputs": [
        {
          "output_type": "stream",
          "name": "stdout",
          "text": [
            "Enter your First Name:Ahmed \n",
            "Enter your Last Name:Mahmoud\n",
            "Hello Ahmed  Mahmoud\n"
          ]
        }
      ]
    },
    {
      "cell_type": "code",
      "source": [
        "number=int(input(\"Enter an integer number\"))\n",
        "remainder = number % 2 \n",
        "if (remainder ==0):\n",
        "    print(number,\"is an even Number\")\n",
        "else:\n",
        "    print(number,\"is an odd Number\")"
      ],
      "metadata": {
        "colab": {
          "base_uri": "https://localhost:8080/"
        },
        "id": "qhejXr3M4NjL",
        "outputId": "2d4ebbab-6d1c-4f3d-ff7a-18f185fcf557"
      },
      "execution_count": 10,
      "outputs": [
        {
          "output_type": "stream",
          "name": "stdout",
          "text": [
            "Enter an integer number6\n",
            "6 is an even Number\n"
          ]
        }
      ]
    },
    {
      "cell_type": "code",
      "source": [
        "u_lim= 3200\n",
        "l_lim= 2000\n",
        "\n",
        "for i in range(l_lim,u_lim):\n",
        "  if i % 7 == 0:\n",
        "    print(i)"
      ],
      "metadata": {
        "colab": {
          "base_uri": "https://localhost:8080/"
        },
        "id": "Gk8oEGI35q4s",
        "outputId": "5e6e095e-e509-46b0-ef47-0e4ff28a68c3"
      },
      "execution_count": 20,
      "outputs": [
        {
          "output_type": "stream",
          "name": "stdout",
          "text": [
            "2002\n",
            "2009\n",
            "2016\n",
            "2023\n",
            "2030\n",
            "2037\n",
            "2044\n",
            "2051\n",
            "2058\n",
            "2065\n",
            "2072\n",
            "2079\n",
            "2086\n",
            "2093\n",
            "2100\n",
            "2107\n",
            "2114\n",
            "2121\n",
            "2128\n",
            "2135\n",
            "2142\n",
            "2149\n",
            "2156\n",
            "2163\n",
            "2170\n",
            "2177\n",
            "2184\n",
            "2191\n",
            "2198\n",
            "2205\n",
            "2212\n",
            "2219\n",
            "2226\n",
            "2233\n",
            "2240\n",
            "2247\n",
            "2254\n",
            "2261\n",
            "2268\n",
            "2275\n",
            "2282\n",
            "2289\n",
            "2296\n",
            "2303\n",
            "2310\n",
            "2317\n",
            "2324\n",
            "2331\n",
            "2338\n",
            "2345\n",
            "2352\n",
            "2359\n",
            "2366\n",
            "2373\n",
            "2380\n",
            "2387\n",
            "2394\n",
            "2401\n",
            "2408\n",
            "2415\n",
            "2422\n",
            "2429\n",
            "2436\n",
            "2443\n",
            "2450\n",
            "2457\n",
            "2464\n",
            "2471\n",
            "2478\n",
            "2485\n",
            "2492\n",
            "2499\n",
            "2506\n",
            "2513\n",
            "2520\n",
            "2527\n",
            "2534\n",
            "2541\n",
            "2548\n",
            "2555\n",
            "2562\n",
            "2569\n",
            "2576\n",
            "2583\n",
            "2590\n",
            "2597\n",
            "2604\n",
            "2611\n",
            "2618\n",
            "2625\n",
            "2632\n",
            "2639\n",
            "2646\n",
            "2653\n",
            "2660\n",
            "2667\n",
            "2674\n",
            "2681\n",
            "2688\n",
            "2695\n",
            "2702\n",
            "2709\n",
            "2716\n",
            "2723\n",
            "2730\n",
            "2737\n",
            "2744\n",
            "2751\n",
            "2758\n",
            "2765\n",
            "2772\n",
            "2779\n",
            "2786\n",
            "2793\n",
            "2800\n",
            "2807\n",
            "2814\n",
            "2821\n",
            "2828\n",
            "2835\n",
            "2842\n",
            "2849\n",
            "2856\n",
            "2863\n",
            "2870\n",
            "2877\n",
            "2884\n",
            "2891\n",
            "2898\n",
            "2905\n",
            "2912\n",
            "2919\n",
            "2926\n",
            "2933\n",
            "2940\n",
            "2947\n",
            "2954\n",
            "2961\n",
            "2968\n",
            "2975\n",
            "2982\n",
            "2989\n",
            "2996\n",
            "3003\n",
            "3010\n",
            "3017\n",
            "3024\n",
            "3031\n",
            "3038\n",
            "3045\n",
            "3052\n",
            "3059\n",
            "3066\n",
            "3073\n",
            "3080\n",
            "3087\n",
            "3094\n",
            "3101\n",
            "3108\n",
            "3115\n",
            "3122\n",
            "3129\n",
            "3136\n",
            "3143\n",
            "3150\n",
            "3157\n",
            "3164\n",
            "3171\n",
            "3178\n",
            "3185\n",
            "3192\n",
            "3199\n"
          ]
        }
      ]
    },
    {
      "cell_type": "code",
      "source": [
        "Amount=int(input(\"total Price is:\"))\n",
        "\n",
        "if Amount>=500:\n",
        "    \n",
        "    Discount = Amount * 50/100\n",
        "    print(\"Discount:\", Discount)\n",
        "    print(\"payable Amount is:\", Amount - Discount)\n",
        "\n",
        "elif (Amount >=200 and Amount <=500):\n",
        "     Discount = Amount * 30/100\n",
        "     print(\"Discount:\", Discount)\n",
        "     print(\"payable Amount is:\", Amount - Discount)\n",
        "\n",
        "else:\n",
        "    Discount = Amount * 10/100\n",
        "    print(\"Discount:\", Discount)\n",
        "    print(\"payable Amount is:\", Amount - Discount)\n"
      ],
      "metadata": {
        "colab": {
          "base_uri": "https://localhost:8080/"
        },
        "id": "Ii2-RBg-7T_S",
        "outputId": "c4f75b90-bc78-48f4-c615-0c163380d2a3"
      },
      "execution_count": 25,
      "outputs": [
        {
          "output_type": "stream",
          "name": "stdout",
          "text": [
            "total Price is:600\n",
            "Discount: 300.0\n",
            "payable Amount is: 300.0\n"
          ]
        }
      ]
    },
    {
      "cell_type": "code",
      "source": [
        "str1=input(\"enter the string:\")\n",
        "str2=\"\";\n",
        "for i in range(len(str1)):\n",
        "  if(i%2==0):\n",
        "      str2=str2+str1[i]\n",
        "print(str2)"
      ],
      "metadata": {
        "colab": {
          "base_uri": "https://localhost:8080/"
        },
        "id": "dFAVTXRpBbe6",
        "outputId": "4f7dc92e-9ea3-4c70-8008-1c9f75aa2c2e"
      },
      "execution_count": 4,
      "outputs": [
        {
          "output_type": "stream",
          "name": "stdout",
          "text": [
            "enter the string:Hello Ahmed\n",
            "HloAmd\n"
          ]
        }
      ]
    },
    {
      "cell_type": "code",
      "source": [
        "  "
      ],
      "metadata": {
        "id": "8UIhu6qgEzk_"
      },
      "execution_count": 2,
      "outputs": []
    }
  ]
}