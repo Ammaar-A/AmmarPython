{
  "nbformat": 4,
  "nbformat_minor": 0,
  "metadata": {
    "colab": {
      "name": "Python Class / object.ipynb",
      "provenance": []
    },
    "kernelspec": {
      "name": "python3",
      "display_name": "Python 3"
    },
    "language_info": {
      "name": "python"
    }
  },
  "cells": [
    {
      "cell_type": "code",
      "execution_count": null,
      "metadata": {
        "id": "hvqmjxRYpchb"
      },
      "outputs": [],
      "source": [
        ""
      ]
    },
    {
      "cell_type": "code",
      "source": [
        "class Parrot:\n",
        " \n",
        "    species = \"bird\"\n",
        "\n",
        "    def __init__(self, name, age):\n",
        "        self.name = name\n",
        "        self.age = age\n",
        "\n",
        "blu = Parrot(\"Blu\", 10)\n",
        "woo = Parrot(\"Woo\", 15)\n",
        "\n",
        "print(\"Blu is a {}\".format(blu.__class__.species))\n",
        "print(\"Woo is also a {}\".format(woo.__class__.species))\n",
        "\n",
        "\n",
        "print(\"{} is {} years old\".format( blu.name, blu.age))\n",
        "print(\"{} is {} years old\".format( woo.name, woo.age))"
      ],
      "metadata": {
        "colab": {
          "base_uri": "https://localhost:8080/"
        },
        "id": "6BZaffl3ph_Q",
        "outputId": "aaa1928a-b0e5-440e-93b2-f60ebfb99236"
      },
      "execution_count": null,
      "outputs": [
        {
          "output_type": "stream",
          "name": "stdout",
          "text": [
            "Blu is a bird\n",
            "Woo is also a bird\n",
            "Blu is 10 years old\n",
            "Woo is 15 years old\n"
          ]
        }
      ]
    },
    {
      "cell_type": "code",
      "source": [
        "class Parrot:\n",
        "    \n",
        "\n",
        "    def __init__(self, name, age):\n",
        "        self.name = name\n",
        "        self.age = age\n",
        "    \n",
        "\n",
        "    def sing(self, song):\n",
        "        return \"{} sings {}\".format(self.name, song)\n",
        "\n",
        "    def dance(self):\n",
        "        return \"{} is now dancing\".format(self.name)\n",
        "\n",
        "blu = Parrot(\"Blu\", 10)\n",
        "\n",
        "print(blu.sing(\"'Happy'\"))\n",
        "print(blu.dance())"
      ],
      "metadata": {
        "colab": {
          "base_uri": "https://localhost:8080/"
        },
        "id": "Tdspl2-6uTDj",
        "outputId": "37aa8982-44a6-4fde-a23b-17fb1878a2e5"
      },
      "execution_count": null,
      "outputs": [
        {
          "output_type": "stream",
          "name": "stdout",
          "text": [
            "Blu sings 'Happy'\n",
            "Blu is now dancing\n"
          ]
        }
      ]
    },
    {
      "cell_type": "code",
      "source": [
        "class Bird:\n",
        "    \n",
        "    def __init__(self):\n",
        "        print(\"Bird is ready\")\n",
        "\n",
        "    def whoisThis(self):\n",
        "        print(\"Bird\")\n",
        "\n",
        "\n",
        "    def swim(self):\n",
        "\t\t    print(\"Swim faster\")\n",
        "\n",
        "# child class\n",
        "class Penguin(Bird):\n",
        "\n",
        "    def __init__(self):\n",
        "\t\t  # call super() function\n",
        "\t\t    super().__init__()\n",
        "\t\t    print(\"Penguin is ready\")\n",
        "\n",
        "    def whoisThis(self):\n",
        "\t\t    print(\"Penguin\")\n",
        "\n",
        "    def run(self):\n",
        "\t\t    print(\"Run faster\")\n",
        "\n",
        "peggy = Penguin()\n",
        "peggy.whoisThis()\n",
        "peggy.swim()\n",
        "peggy.run()"
      ],
      "metadata": {
        "id": "xCZ7FdHS3KB2",
        "colab": {
          "base_uri": "https://localhost:8080/"
        },
        "outputId": "c3ca4c41-20f1-44ff-ef38-4c3aed5ef2f1"
      },
      "execution_count": 3,
      "outputs": [
        {
          "output_type": "stream",
          "name": "stdout",
          "text": [
            "Bird is ready\n",
            "Penguin is ready\n",
            "Penguin\n",
            "Swim faster\n",
            "Run faster\n"
          ]
        }
      ]
    },
    {
      "cell_type": "code",
      "source": [
        "class Car:\n",
        "  Wheels = 4\n",
        "  def __init__(self,model,year,color):\n",
        "    self.model = model \n",
        "    self.year = year\n",
        "    self.color = color  \n",
        "\n",
        "car1 = Car(\"BMW\",2022,\"black\")      \n",
        "car2 = Car(\"MG\",2022,\"silver\")\n",
        "  \n",
        "  \n",
        "print(car1.model)\n",
        "print(car1.year)"
      ],
      "metadata": {
        "colab": {
          "base_uri": "https://localhost:8080/"
        },
        "id": "EhaC0tsR-lqv",
        "outputId": "b049848b-f67a-40cb-e1b2-ea570157ea74"
      },
      "execution_count": 7,
      "outputs": [
        {
          "output_type": "stream",
          "name": "stdout",
          "text": [
            "BMW\n",
            "2022\n"
          ]
        }
      ]
    },
    {
      "cell_type": "code",
      "source": [
        "def myfunc(x,y,z):\n",
        "  return x,y,z\n",
        "tuple1=(1,2,3)\n",
        "My_point = (tuple1)\n",
        "print(My_point)"
      ],
      "metadata": {
        "colab": {
          "base_uri": "https://localhost:8080/"
        },
        "id": "7BbsW7G0EGma",
        "outputId": "b214da8f-aec9-4bde-88f7-3575e77ea60e"
      },
      "execution_count": 13,
      "outputs": [
        {
          "output_type": "stream",
          "name": "stdout",
          "text": [
            "(1, 2, 3)\n"
          ]
        }
      ]
    },
    {
      "cell_type": "code",
      "source": [
        "class Rectangular:\n",
        "  Rectangular = (\"length,width\")\n",
        "  def __init__(self,length,width):\n",
        "    self.length = length \n",
        "    self.width = width\n",
        "    \n",
        "width = 3\n",
        "length =4\n",
        "\n",
        "My_rectangle1 = (length*width)      \n",
        "print(My_rectangle1)\n",
        "\n",
        "My_rectangle2 = ((length+width)*2)      \n",
        "print(My_rectangle2)"
      ],
      "metadata": {
        "colab": {
          "base_uri": "https://localhost:8080/"
        },
        "id": "lurhmTkMFRU-",
        "outputId": "2f1d59e8-b438-421d-9356-14d01344cbc0"
      },
      "execution_count": 20,
      "outputs": [
        {
          "output_type": "stream",
          "name": "stdout",
          "text": [
            "12\n",
            "14\n"
          ]
        }
      ]
    },
    {
      "cell_type": "code",
      "source": [
        "class BankAccount:\n",
        "  def __init__(self,number):\n",
        "    self.number = number\n",
        "\n",
        "  def withdraw(self):\n",
        "      \n",
        "     withdraw_Amount = int(input(\"enter your amount withdraw \"))\n",
        "     self.number -= withdraw_Amount\n",
        "     return(self.number)\n",
        "     \n",
        "  def deposit(self):\n",
        "      \n",
        "     deposit_Amount = int(input(\"enter your amount deposit \"))\n",
        "     self.number += deposit_Amount\n",
        "     return(self.number)  "
      ],
      "metadata": {
        "id": "zhK3xHy3Irvi"
      },
      "execution_count": 32,
      "outputs": []
    },
    {
      "cell_type": "code",
      "source": [
        "Bank_Account = BankAccount(10)\n",
        "print(Bank_Account.withdraw())\n",
        "print(Bank_Account.deposit())"
      ],
      "metadata": {
        "colab": {
          "base_uri": "https://localhost:8080/"
        },
        "id": "oLT_YIgWRK6W",
        "outputId": "15e26b9c-632c-4528-d8f4-b15f6f100ab9"
      },
      "execution_count": 33,
      "outputs": [
        {
          "output_type": "stream",
          "name": "stdout",
          "text": [
            "enter your amount withdraw 2\n",
            "8\n",
            "enter your amount deposit 5\n",
            "13\n"
          ]
        }
      ]
    },
    {
      "cell_type": "code",
      "source": [
        ""
      ],
      "metadata": {
        "id": "pnw09V-uR_Iy"
      },
      "execution_count": null,
      "outputs": []
    }
  ]
}