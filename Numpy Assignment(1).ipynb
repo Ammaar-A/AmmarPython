{
 "cells": [
  {
   "cell_type": "code",
   "execution_count": 5,
   "id": "c9641eac",
   "metadata": {},
   "outputs": [
    {
     "name": "stdout",
     "output_type": "stream",
     "text": [
      "[1, 2, 3, 4]\n"
     ]
    }
   ],
   "source": [
    "import numpy as np\n",
    "x=np.array([1,2,3,4])\n",
    "Ordinary_list = x.tolist()\n",
    "\n",
    "print (Ordinary_list)"
   ]
  },
  {
   "cell_type": "code",
   "execution_count": 8,
   "id": "c83cad06",
   "metadata": {
    "scrolled": true
   },
   "outputs": [
    {
     "name": "stdout",
     "output_type": "stream",
     "text": [
      "Enter number in the bracket [0][0]10\n",
      "Enter number in the bracket [0][1]25\n",
      "Enter number in the bracket [0][2]20\n",
      "Enter number in the bracket [1][0]6\n",
      "Enter number in the bracket [1][1]8\n",
      "Enter number in the bracket [1][2]95\n",
      "Enter number in the bracket [2][0]56\n",
      "Enter number in the bracket [2][1]56\n",
      "Enter number in the bracket [2][2]66\n",
      "Your Matrix is  \n",
      "10 25 20 \n",
      "6 8 95 \n",
      "56 56 66 \n",
      "84\n"
     ]
    }
   ],
   "source": [
    "import numpy as np\n",
    "a = []\n",
    "for i in range (3):\n",
    "    b = []\n",
    "    for j in range (3):\n",
    "        j = int(input(\"Enter number in the bracket [\"+str(i)+\"][\"+str(j)+\"]\"))\n",
    "        b.append(j)\n",
    "    a.append(b)\n",
    "print (\"Your Matrix is  \")\n",
    "for i in range (3):\n",
    "    for j in range (3):\n",
    "        print (a[i][j],end = \" \")\n",
    "    print()\n",
    "m = np.array(a)\n",
    "print (np.trace(m))"
   ]
  },
  {
   "cell_type": "code",
   "execution_count": 9,
   "id": "85e1037e",
   "metadata": {},
   "outputs": [
    {
     "name": "stdout",
     "output_type": "stream",
     "text": [
      "[False  True  True]\n"
     ]
    }
   ],
   "source": [
    "a = np.array([[0,1,2],[3,4,5],[6,7,8]])\n",
    "x=2\n",
    "for i in a:\n",
    "    b = (a[:,-1] > x)\n",
    "print (b)    "
   ]
  },
  {
   "cell_type": "code",
   "execution_count": 13,
   "id": "5a6d9a02",
   "metadata": {},
   "outputs": [
    {
     "name": "stdout",
     "output_type": "stream",
     "text": [
      "[[ 8.  5.]\n",
      " [14.  6.]]\n"
     ]
    }
   ],
   "source": [
    "import numpy as np\n",
    "A=np.array([[1,5],[5,1]], dtype=np.float64)\n",
    "B=np.array([[7,0],[9,5]], dtype=np.float64)\n",
    "C=np.add(A, B)\n",
    "C=A+B\n",
    "print (C)"
   ]
  },
  {
   "cell_type": "code",
   "execution_count": 17,
   "id": "04ebf417",
   "metadata": {},
   "outputs": [
    {
     "name": "stdout",
     "output_type": "stream",
     "text": [
      "6.733333333333333\n"
     ]
    }
   ],
   "source": [
    "import numpy as np\n",
    "array=np.random.randint(2, 10, size=(3,5))\n",
    "\n",
    "print(np.mean(array))"
   ]
  },
  {
   "cell_type": "code",
   "execution_count": 19,
   "id": "9b93485e",
   "metadata": {},
   "outputs": [
    {
     "name": "stdout",
     "output_type": "stream",
     "text": [
      "[[-0.6  1.4  1.4 -3.6  1.4]\n",
      " [ 0.4  1.4 -3.6 -0.6  2.4]\n",
      " [ 1.   0.  -3.  -1.   3. ]]\n"
     ]
    }
   ],
   "source": [
    "print(array - array.mean(axis=1, keepdims=True) )"
   ]
  },
  {
   "cell_type": "code",
   "execution_count": null,
   "id": "6c2296d5",
   "metadata": {},
   "outputs": [],
   "source": []
  }
 ],
 "metadata": {
  "kernelspec": {
   "display_name": "Python 3 (ipykernel)",
   "language": "python",
   "name": "python3"
  },
  "language_info": {
   "codemirror_mode": {
    "name": "ipython",
    "version": 3
   },
   "file_extension": ".py",
   "mimetype": "text/x-python",
   "name": "python",
   "nbconvert_exporter": "python",
   "pygments_lexer": "ipython3",
   "version": "3.9.7"
  }
 },
 "nbformat": 4,
 "nbformat_minor": 5
}
