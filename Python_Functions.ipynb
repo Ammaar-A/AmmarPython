{
  "nbformat": 4,
  "nbformat_minor": 0,
  "metadata": {
    "colab": {
      "name": "Python Functions.ipynb",
      "provenance": []
    },
    "kernelspec": {
      "name": "python3",
      "display_name": "Python 3"
    },
    "language_info": {
      "name": "python"
    }
  },
  "cells": [
    {
      "cell_type": "code",
      "execution_count": null,
      "metadata": {
        "colab": {
          "base_uri": "https://localhost:8080/"
        },
        "id": "YV6C0DQXvn7b",
        "outputId": "2d71e23e-db1e-4474-cc39-9e23ef8cd332"
      },
      "outputs": [
        {
          "output_type": "stream",
          "name": "stdout",
          "text": [
            "35\n"
          ]
        }
      ],
      "source": [
        "\n",
        "def maxtwo(a,b):\n",
        "  if a>b:\n",
        "    return a \n",
        "  return b\n",
        "def maxthree(a,b,c):\n",
        "    return maxtwo(a,maxtwo(b,c))\n",
        "print(maxthree(20,35,19))      "
      ]
    },
    {
      "cell_type": "code",
      "source": [
        "Tuple1=(40,10)\n",
        "Tuple2=(10,20)\n",
        "result=list(map(lambda x,y : x+y, Tuple1,Tuple2))\n",
        "print(result)"
      ],
      "metadata": {
        "colab": {
          "base_uri": "https://localhost:8080/"
        },
        "id": "bn5vv4YmxXb7",
        "outputId": "c663bcb3-3dc8-4b0a-b85f-6782c9f6d570"
      },
      "execution_count": null,
      "outputs": [
        {
          "output_type": "stream",
          "name": "stdout",
          "text": [
            "[50, 30]\n"
          ]
        }
      ]
    },
    {
      "cell_type": "code",
      "source": [
        "\n",
        "def operation(x,y,z):\n",
        "      print((x+y)+z)\n",
        "operation(5,3,2)"
      ],
      "metadata": {
        "colab": {
          "base_uri": "https://localhost:8080/"
        },
        "id": "QWi37sSZ2Uf2",
        "outputId": "a8bfc0e2-aada-476d-d21d-1e7505921ea5"
      },
      "execution_count": null,
      "outputs": [
        {
          "output_type": "stream",
          "name": "stdout",
          "text": [
            "10\n"
          ]
        }
      ]
    },
    {
      "cell_type": "code",
      "source": [
        "def operation(x,y,z):\n",
        "      print((x+y)*z)\n",
        "operation(5,3,2)"
      ],
      "metadata": {
        "colab": {
          "base_uri": "https://localhost:8080/"
        },
        "id": "KPXT0STt42Pl",
        "outputId": "66c2ea39-f592-47c9-b1e3-744b48e71509"
      },
      "execution_count": null,
      "outputs": [
        {
          "output_type": "stream",
          "name": "stdout",
          "text": [
            "16\n"
          ]
        }
      ]
    },
    {
      "cell_type": "code",
      "source": [
        "my_list=[2,3,6]\n",
        "result=1\n",
        "for i in my_list:\n",
        "  result= result + i \n",
        "  print(result)"
      ],
      "metadata": {
        "colab": {
          "base_uri": "https://localhost:8080/"
        },
        "id": "9pWre0x25cTl",
        "outputId": "7250488b-7990-4daa-835b-fe392c64206b"
      },
      "execution_count": null,
      "outputs": [
        {
          "output_type": "stream",
          "name": "stdout",
          "text": [
            "3\n",
            "6\n",
            "12\n"
          ]
        }
      ]
    },
    {
      "cell_type": "code",
      "source": [
        "def sum(x,y):\n",
        "  return x+y \n",
        "x=int(input(\"Enter No.1 =  \")) \n",
        "y=int(input(\"Enter No.2 =  \"))\n",
        "z=sum(x,y)\n",
        "print(\"sum of\",x, \"and \",y, \"is\",z)\n"
      ],
      "metadata": {
        "colab": {
          "base_uri": "https://localhost:8080/"
        },
        "id": "_t6GGu9c9k1q",
        "outputId": "4097aea7-4085-4b40-f94e-92d0efa5eb2e"
      },
      "execution_count": null,
      "outputs": [
        {
          "output_type": "stream",
          "name": "stdout",
          "text": [
            "Enter No.1 =  80\n",
            "Enter No.2 =  90\n",
            "sum of 80 and  90 is 170\n"
          ]
        }
      ]
    },
    {
      "cell_type": "code",
      "source": [
        "def sum(x,y):\n",
        "  return x*y\n",
        "x=int(input(\"Enter No.1 =  \")) \n",
        "y=int(input(\"Enter No.2 =  \"))\n",
        "z= x * y\n",
        "print(\"Multiplication of\",x, \"and \",y, \"is\",z)"
      ],
      "metadata": {
        "colab": {
          "base_uri": "https://localhost:8080/"
        },
        "id": "pDualUo6_OOg",
        "outputId": "9af749d9-860d-491c-b4b7-01fa2b50ee3d"
      },
      "execution_count": null,
      "outputs": [
        {
          "output_type": "stream",
          "name": "stdout",
          "text": [
            "Enter No.1 =  5\n",
            "Enter No.2 =  6\n",
            "Multiplication of 5 and  6 is 30\n"
          ]
        }
      ]
    },
    {
      "cell_type": "code",
      "source": [
        "Words= input((\"Enter a hyphen separated sequence of words: \")).split('-')\n",
        "List=[i for i in Words ]\n",
        "List.sort()\n",
        "print('-'.join(List))\n"
      ],
      "metadata": {
        "colab": {
          "base_uri": "https://localhost:8080/"
        },
        "id": "29wwCacP_q4D",
        "outputId": "b2dbd9e0-0a71-4315-d536-5c0b175ff7d4"
      },
      "execution_count": null,
      "outputs": [
        {
          "output_type": "stream",
          "name": "stdout",
          "text": [
            "Enter a hyphen separated sequence of words: green-red-yellow-black-white\n",
            "black-green-red-white-yellow\n"
          ]
        }
      ]
    },
    {
      "cell_type": "code",
      "source": [
        "\n"
      ],
      "metadata": {
        "id": "nIiPOy1wKTPq"
      },
      "execution_count": null,
      "outputs": []
    }
  ]
}