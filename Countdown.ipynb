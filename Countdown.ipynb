{
 "cells": [
  {
   "cell_type": "code",
   "execution_count": 15,
   "id": "664ed608",
   "metadata": {},
   "outputs": [
    {
     "name": "stdout",
     "output_type": "stream",
     "text": [
      " Please enter yout Countdown length on seconds 5\n"
     ]
    }
   ],
   "source": [
    "import time  \n",
    "x = int(input(\" Please enter yout Countdown length on seconds \"))\n",
    "def countdown(t):\n",
    "  while t > 0 :\n",
    "    t -=1\n",
    "    time_format = divmod(t,60)\n",
    "    z = str(time_format[0]) + \" : \" + str(time_format[1])\n",
    "    print( z , end ='\\r')\n",
    "    time.sleep(1)\n",
    "  print (\"Fire in the hole\")    "
   ]
  },
  {
   "cell_type": "code",
   "execution_count": 16,
   "id": "d9f1408c",
   "metadata": {},
   "outputs": [
    {
     "name": "stdout",
     "output_type": "stream",
     "text": [
      "Fire in the hole\n"
     ]
    }
   ],
   "source": [
    "countdown (x)\n"
   ]
  },
  {
   "cell_type": "code",
   "execution_count": null,
   "id": "5908704f",
   "metadata": {},
   "outputs": [],
   "source": []
  }
 ],
 "metadata": {
  "kernelspec": {
   "display_name": "Python 3 (ipykernel)",
   "language": "python",
   "name": "python3"
  },
  "language_info": {
   "codemirror_mode": {
    "name": "ipython",
    "version": 3
   },
   "file_extension": ".py",
   "mimetype": "text/x-python",
   "name": "python",
   "nbconvert_exporter": "python",
   "pygments_lexer": "ipython3",
   "version": "3.9.7"
  }
 },
 "nbformat": 4,
 "nbformat_minor": 5
}
