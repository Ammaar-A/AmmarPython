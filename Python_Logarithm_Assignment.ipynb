{
  "nbformat": 4,
  "nbformat_minor": 0,
  "metadata": {
    "colab": {
      "name": "Python Logarithm Assignment.ipynb",
      "provenance": []
    },
    "kernelspec": {
      "name": "python3",
      "display_name": "Python 3"
    },
    "language_info": {
      "name": "python"
    }
  },
  "cells": [
    {
      "cell_type": "code",
      "execution_count": 1,
      "metadata": {
        "colab": {
          "base_uri": "https://localhost:8080/",
          "height": 70
        },
        "id": "-li1t4U7bVXS",
        "outputId": "fcbfbe6a-575c-445a-fce0-4bda0c8fe3c8"
      },
      "outputs": [
        {
          "output_type": "stream",
          "name": "stdout",
          "text": [
            "2\n",
            "3\n"
          ]
        },
        {
          "output_type": "execute_result",
          "data": {
            "text/plain": [
              "'k is found'"
            ],
            "application/vnd.google.colaboratory.intrinsic+json": {
              "type": "string"
            }
          },
          "metadata": {},
          "execution_count": 1
        }
      ],
      "source": [
        "def binary_search(A, l, h, k):\n",
        "    if h >= l:\n",
        "        mid = int(l + (h - l)/2)\n",
        "        print(mid)\n",
        "        if A[mid] == k:\n",
        "            return 'k is found'\n",
        "        elif A[mid] > k:\n",
        "            return binary_search(A, l, mid-1, k)\n",
        "        else:\n",
        "            return binary_search(A, mid+1, h, k)\n",
        "    else:\n",
        "        return 'k is not found'\n",
        "\n",
        "A=[1,2,3,5,8]\n",
        "k=5;l=0; h=len(A)-1;\n",
        "binary_search(A, l, h, k) "
      ]
    },
    {
      "cell_type": "code",
      "source": [
        "def binary_search(A, l, h, k):\n",
        "    if h >= l:\n",
        "        mid = int(l + (h - l)/2)\n",
        "        print(mid)\n",
        "        if A[mid] == k:\n",
        "            return 'k is found'\n",
        "        elif A[mid] > k:\n",
        "            return binary_search(A, l, mid-1, k)\n",
        "        else:\n",
        "            return binary_search(A, mid+1, h, k)\n",
        "    else:\n",
        "        return 'k is not found'\n",
        "\n",
        "A=[1,2,3,5,8]\n",
        "k=6;l=0; h=len(A)-1;\n",
        "binary_search(A, l, h, k) "
      ],
      "metadata": {
        "colab": {
          "base_uri": "https://localhost:8080/",
          "height": 87
        },
        "id": "eWrxCJZ1cTGh",
        "outputId": "aa43330e-0b2b-4a93-8afa-d01e69ef4e4b"
      },
      "execution_count": 2,
      "outputs": [
        {
          "output_type": "stream",
          "name": "stdout",
          "text": [
            "2\n",
            "3\n",
            "4\n"
          ]
        },
        {
          "output_type": "execute_result",
          "data": {
            "text/plain": [
              "'k is not found'"
            ],
            "application/vnd.google.colaboratory.intrinsic+json": {
              "type": "string"
            }
          },
          "metadata": {},
          "execution_count": 2
        }
      ]
    },
    {
      "cell_type": "code",
      "source": [
        "\n",
        "\n",
        "def power (a,b):\n",
        "  if b == 0:\n",
        "      return 1\n",
        "  else:\n",
        "      return a*power(a,b-1)\n",
        "\n",
        "  \n",
        "power(3,4)"
      ],
      "metadata": {
        "colab": {
          "base_uri": "https://localhost:8080/"
        },
        "id": "ngUZ4TPddcnj",
        "outputId": "5933b728-f19e-4c16-da74-4bd5b1d3c8e6"
      },
      "execution_count": 18,
      "outputs": [
        {
          "output_type": "execute_result",
          "data": {
            "text/plain": [
              "81"
            ]
          },
          "metadata": {},
          "execution_count": 18
        }
      ]
    },
    {
      "cell_type": "code",
      "source": [
        "def bubbleSort(nlist):\n",
        "    for passnum in range(len(nlist)-1,0,-1):\n",
        "        for i in range(passnum):\n",
        "            if nlist[i]>nlist[i+1]:\n",
        "                temp = nlist[i]\n",
        "                nlist[i] = nlist[i+1]\n",
        "                nlist[i+1] = temp\n",
        "    return nlist\n",
        "\n",
        "nlist = [29,13,22,37,52,49,46,71,56]\n",
        "bubbleSort(nlist)"
      ],
      "metadata": {
        "colab": {
          "base_uri": "https://localhost:8080/"
        },
        "id": "GXZ25qG2dyOz",
        "outputId": "9b534340-373f-4a2a-fdad-4d1f4f087233"
      },
      "execution_count": 9,
      "outputs": [
        {
          "output_type": "execute_result",
          "data": {
            "text/plain": [
              "[13, 22, 29, 37, 46, 49, 52, 56, 71]"
            ]
          },
          "metadata": {},
          "execution_count": 9
        }
      ]
    },
    {
      "cell_type": "code",
      "source": [
        "  def mergeSort(myList):\n",
        "    if len(myList) > 1:\n",
        "        mid = len(myList) // 2\n",
        "        left = myList[:mid]\n",
        "        right = myList[mid:]\n",
        "\n",
        "        # Recursive call on each half\n",
        "        mergeSort(left)\n",
        "        mergeSort(right)\n",
        "\n",
        "        # Two iterators for traversing the two halves\n",
        "        i = 0\n",
        "        j = 0\n",
        "        \n",
        "        # Iterator for the main list\n",
        "        k = 0\n",
        "        \n",
        "        while i < len(left) and j < len(right):\n",
        "            if left[i] < right[j]:\n",
        "              # The value from the left half has been used\n",
        "              myList[k] = left[i]\n",
        "              # Move the iterator forward\n",
        "              i += 1\n",
        "            else:\n",
        "                myList[k] = right[j]\n",
        "                j += 1\n",
        "            # Move to the next slot\n",
        "            k += 1\n",
        "\n",
        "        # For all the remaining values\n",
        "        while i < len(left):\n",
        "            myList[k] = left[i]\n",
        "            i += 1\n",
        "            k += 1\n",
        "\n",
        "        while j < len(right):\n",
        "            myList[k]=right[j]\n",
        "            j += 1\n",
        "            k += 1\n",
        "\n",
        "myList = [29,13,22,37,52,49,46,71,56]\n",
        "mergeSort(myList)\n",
        "print(myList)"
      ],
      "metadata": {
        "colab": {
          "base_uri": "https://localhost:8080/"
        },
        "id": "_761TR_jeKDL",
        "outputId": "9ad89866-6cff-40dc-93af-882b84a4d5e6"
      },
      "execution_count": 10,
      "outputs": [
        {
          "output_type": "stream",
          "name": "stdout",
          "text": [
            "[13, 22, 29, 37, 46, 49, 52, 56, 71]\n"
          ]
        }
      ]
    },
    {
      "cell_type": "code",
      "source": [
        "def partition(array, start, end):\n",
        "    pivot = array[start]\n",
        "    low = start + 1\n",
        "    high = end\n",
        "    while True:\n",
        "        # If the current value we're looking at is larger than the pivot\n",
        "        # it's in the right place (right side of pivot) and we can move left,\n",
        "        # to the next element.\n",
        "        # We also need to make sure we haven't surpassed the low pointer, since that\n",
        "        # indicates we have already moved all the elements to their correct side of the pivot\n",
        "        while low <= high and array[high] >= pivot:\n",
        "            high = high - 1\n",
        "\n",
        "        # Opposite process of the one above\n",
        "        while low <= high and array[low] <= pivot:\n",
        "            low = low + 1\n",
        "\n",
        "        # We either found a value for both high and low that is out of order\n",
        "        # or low is higher than high, in which case we exit the loop\n",
        "        if low <= high:\n",
        "            array[low], array[high] = array[high], array[low]\n",
        "            # The loop continues\n",
        "        else:\n",
        "            # We exit out of the loop\n",
        "            break\n",
        "\n",
        "    array[start], array[high] = array[high], array[start]\n",
        "\n",
        "    return high\n",
        "\n",
        "def quick_sort(array, start, end):\n",
        "    if start >= end:\n",
        "        return\n",
        "\n",
        "    p = partition(array, start, end)\n",
        "    quick_sort(array, start, p-1)\n",
        "    quick_sort(array, p+1, end)\n",
        "array = [29,13,22,37,52,49,46,71,56]\n",
        "quick_sort(array, 0, len(array) - 1)\n",
        "print(array)    "
      ],
      "metadata": {
        "colab": {
          "base_uri": "https://localhost:8080/"
        },
        "id": "TgOJ-Nw5gJFM",
        "outputId": "a5cb7dbb-4117-48b6-d18c-8f0e7c2a302e"
      },
      "execution_count": 11,
      "outputs": [
        {
          "output_type": "stream",
          "name": "stdout",
          "text": [
            "[13, 22, 29, 37, 46, 49, 52, 56, 71]\n"
          ]
        }
      ]
    },
    {
      "cell_type": "code",
      "source": [
        ""
      ],
      "metadata": {
        "id": "Zjs42WHcgVOp"
      },
      "execution_count": null,
      "outputs": []
    }
  ]
}