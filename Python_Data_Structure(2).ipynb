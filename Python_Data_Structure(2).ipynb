{
  "nbformat": 4,
  "nbformat_minor": 0,
  "metadata": {
    "colab": {
      "name": "Python Data Structure.ipynb",
      "provenance": []
    },
    "kernelspec": {
      "name": "python3",
      "display_name": "Python 3"
    },
    "language_info": {
      "name": "python"
    }
  },
  "cells": [
    {
      "cell_type": "code",
      "execution_count": null,
      "metadata": {
        "colab": {
          "base_uri": "https://localhost:8080/"
        },
        "id": "ugfkY55sAmXY",
        "outputId": "5662729c-a79c-415e-d569-b850d776e3c6"
      },
      "outputs": [
        {
          "output_type": "stream",
          "name": "stdout",
          "text": [
            "2\n",
            "6\n",
            "36\n"
          ]
        }
      ],
      "source": [
        "my_list=[2,3,6]\n",
        "result=1\n",
        "for i in my_list:\n",
        "  result= result * i \n",
        "  print(result)"
      ]
    },
    {
      "cell_type": "code",
      "source": [
        "def last(n):\n",
        "  return n[-1]\n",
        "def sort (a):\n",
        "  return sorted (a, key=last)\n",
        "\n",
        "a= [(2, 5), (1, 2), (4, 4), (2, 3), (2, 1)]\n",
        "print(\"sorted:\")\n",
        "print(sort(a))  "
      ],
      "metadata": {
        "colab": {
          "base_uri": "https://localhost:8080/"
        },
        "id": "Ucx9mGiuDMGP",
        "outputId": "b8b2b32a-d5df-455f-fd0e-0c1747d40f32"
      },
      "execution_count": null,
      "outputs": [
        {
          "output_type": "stream",
          "name": "stdout",
          "text": [
            "sorted:\n",
            "[(2, 1), (1, 2), (2, 3), (4, 4), (2, 5)]\n"
          ]
        }
      ]
    },
    {
      "cell_type": "code",
      "source": [
        "d1 = {'a': 100, 'b': 200, 'c':300}\n",
        "d2 = {'a': 300, 'b': 200, 'd':400}\n",
        "for key in d1:\n",
        "  if key in d2:\n",
        "    d2[key]=d1[key]+d2[key]\n",
        "  else:\n",
        "    d2[key]=d1[key]\n",
        "print(d2)      "
      ],
      "metadata": {
        "colab": {
          "base_uri": "https://localhost:8080/"
        },
        "id": "WRMA2ktPGF7M",
        "outputId": "d082e3c3-0ba8-4662-8777-4722c7d79c6b"
      },
      "execution_count": null,
      "outputs": [
        {
          "output_type": "stream",
          "name": "stdout",
          "text": [
            "{'a': 400, 'b': 400, 'd': 400, 'c': 300}\n"
          ]
        }
      ]
    },
    {
      "cell_type": "code",
      "source": [
        "my_list= [('item1', '12.20'), ('item2', '15.10'), ('item3', '24.5')]\n",
        "sorted(my_list,key=lambda x:float(x[1]),reverse=True)"
      ],
      "metadata": {
        "colab": {
          "base_uri": "https://localhost:8080/"
        },
        "id": "GI3Z1qOBK6hh",
        "outputId": "ca2f7da3-fea4-44e0-bd4d-be5e5b39aa7f"
      },
      "execution_count": null,
      "outputs": [
        {
          "output_type": "execute_result",
          "data": {
            "text/plain": [
              "[('item3', '24.5'), ('item2', '15.10'), ('item1', '12.20')]"
            ]
          },
          "metadata": {},
          "execution_count": 21
        }
      ]
    },
    {
      "cell_type": "code",
      "source": [
        "my_dict = {}\n",
        "for i in range(1,9):\n",
        "  my_dict [i] = i*i  \n",
        "  print(my_dict)"
      ],
      "metadata": {
        "id": "T8ygWYkiMx9f",
        "colab": {
          "base_uri": "https://localhost:8080/"
        },
        "outputId": "ecd33b29-0c26-493e-9301-ead554f96001"
      },
      "execution_count": null,
      "outputs": [
        {
          "output_type": "stream",
          "name": "stdout",
          "text": [
            "{1: 1}\n",
            "{1: 1, 2: 4}\n",
            "{1: 1, 2: 4, 3: 9}\n",
            "{1: 1, 2: 4, 3: 9, 4: 16}\n",
            "{1: 1, 2: 4, 3: 9, 4: 16, 5: 25}\n",
            "{1: 1, 2: 4, 3: 9, 4: 16, 5: 25, 6: 36}\n",
            "{1: 1, 2: 4, 3: 9, 4: 16, 5: 25, 6: 36, 7: 49}\n",
            "{1: 1, 2: 4, 3: 9, 4: 16, 5: 25, 6: 36, 7: 49, 8: 64}\n"
          ]
        }
      ]
    },
    {
      "cell_type": "code",
      "source": [
        "liste = [1,2,3]\n",
        "Length = 0 \n",
        "for i in liste :\n",
        "  Length +=1\n",
        "print(Length)"
      ],
      "metadata": {
        "id": "bCo3Oa_GhLz-",
        "colab": {
          "base_uri": "https://localhost:8080/"
        },
        "outputId": "a10b2697-b96b-476b-c01e-8d623856d388"
      },
      "execution_count": null,
      "outputs": [
        {
          "output_type": "stream",
          "name": "stdout",
          "text": [
            "3\n"
          ]
        }
      ]
    },
    {
      "cell_type": "code",
      "source": [
        "liste = [1,2,3]\n",
        "print(len(liste))"
      ],
      "metadata": {
        "colab": {
          "base_uri": "https://localhost:8080/"
        },
        "id": "SKAEa5nDgVIt",
        "outputId": "c4787303-b3ba-463e-ede4-c1b8ccb2409f"
      },
      "execution_count": null,
      "outputs": [
        {
          "output_type": "stream",
          "name": "stdout",
          "text": [
            "3\n"
          ]
        }
      ]
    },
    {
      "cell_type": "code",
      "source": [
        "def function_name():\n",
        "     print(\"Hello World, this is my first function\")\n",
        "function_name()"
      ],
      "metadata": {
        "colab": {
          "base_uri": "https://localhost:8080/"
        },
        "id": "qZs3dQzBgzwp",
        "outputId": "54302e95-cc25-42ed-886f-3d5fdc208dec"
      },
      "execution_count": null,
      "outputs": [
        {
          "output_type": "stream",
          "name": "stdout",
          "text": [
            "Hello World, this is my first function\n"
          ]
        }
      ]
    },
    {
      "cell_type": "code",
      "source": [
        "def my_function(parameter):\n",
        "    print(\"I want to learn \"+parameter)\n",
        "my_function(\"to code!\")  \n",
        " "
      ],
      "metadata": {
        "colab": {
          "base_uri": "https://localhost:8080/"
        },
        "id": "K21DWnCFjTHE",
        "outputId": "b403eab9-3288-443e-f92b-4432d05ae72e"
      },
      "execution_count": null,
      "outputs": [
        {
          "output_type": "stream",
          "name": "stdout",
          "text": [
            "I want to learn to code!\n"
          ]
        }
      ]
    },
    {
      "cell_type": "code",
      "source": [
        "my_function(\"to do AI!\") "
      ],
      "metadata": {
        "colab": {
          "base_uri": "https://localhost:8080/"
        },
        "id": "oeGr2tU5k3Za",
        "outputId": "c0306922-05be-4106-8bff-7e9a93e52471"
      },
      "execution_count": null,
      "outputs": [
        {
          "output_type": "stream",
          "name": "stdout",
          "text": [
            "I want to learn to do AI!\n"
          ]
        }
      ]
    },
    {
      "cell_type": "code",
      "source": [
        "def length(liste):\n",
        "  s =0 \n",
        "  for i in liste:\n",
        "    s+=1 \n",
        "  return(s)\n",
        "a = [1,2,3,4]\n",
        "print(length(a)) "
      ],
      "metadata": {
        "colab": {
          "base_uri": "https://localhost:8080/"
        },
        "id": "mxA4QtIyk_dB",
        "outputId": "5fc9afdf-03e5-4f25-8f88-c00335d8cf1b"
      },
      "execution_count": null,
      "outputs": [
        {
          "output_type": "stream",
          "name": "stdout",
          "text": [
            "4\n"
          ]
        }
      ]
    },
    {
      "cell_type": "code",
      "source": [
        "b = [1,2]\n",
        "print(length(b))  "
      ],
      "metadata": {
        "colab": {
          "base_uri": "https://localhost:8080/"
        },
        "id": "4zAKBb_8zn0U",
        "outputId": "7b702353-3685-4895-c4a7-05d1e6f13169"
      },
      "execution_count": null,
      "outputs": [
        {
          "output_type": "stream",
          "name": "stdout",
          "text": [
            "2\n"
          ]
        }
      ]
    },
    {
      "cell_type": "code",
      "source": [
        "def operation(x,y,z):\n",
        "      print((x+y)*z)\n",
        "operation(5,3,2) \n",
        "operation(5,2,3) "
      ],
      "metadata": {
        "colab": {
          "base_uri": "https://localhost:8080/"
        },
        "id": "0MwBBQL90rp2",
        "outputId": "ba4d8c1e-a00b-4b52-e2f5-14ce2da8efe9"
      },
      "execution_count": null,
      "outputs": [
        {
          "output_type": "stream",
          "name": "stdout",
          "text": [
            "16\n",
            "21\n"
          ]
        }
      ]
    },
    {
      "cell_type": "code",
      "source": [
        "def my_function(country=\"Tunisia\"):\n",
        "    print(\"I am from \"+country)\n",
        "my_function(\"Maroc\")\n",
        "my_function(\"Algeria\")\n",
        "my_function()"
      ],
      "metadata": {
        "colab": {
          "base_uri": "https://localhost:8080/"
        },
        "id": "1ihgvSrHX1Gv",
        "outputId": "1f1a4b2a-7044-449d-8b13-de2a67207f1d"
      },
      "execution_count": null,
      "outputs": [
        {
          "output_type": "stream",
          "name": "stdout",
          "text": [
            "I am from Maroc\n",
            "I am from Algeria\n",
            "I am from Tunisia\n"
          ]
        }
      ]
    },
    {
      "cell_type": "code",
      "source": [
        "sum = lambda a,b,c : a+b+c\n",
        "print(sum(2,6,3)) "
      ],
      "metadata": {
        "colab": {
          "base_uri": "https://localhost:8080/"
        },
        "id": "vQLkv2CoaHhX",
        "outputId": "2ec5c94a-d2d6-4f14-b99b-d943ad5878d5"
      },
      "execution_count": null,
      "outputs": [
        {
          "output_type": "stream",
          "name": "stdout",
          "text": [
            "11\n"
          ]
        }
      ]
    },
    {
      "cell_type": "code",
      "source": [
        "year = lambda ch : ch[:4]\n",
        "ch = \"20200310\"\n",
        "print(year(ch))"
      ],
      "metadata": {
        "colab": {
          "base_uri": "https://localhost:8080/"
        },
        "id": "s7owP4gueSVx",
        "outputId": "65b0bcc2-68e2-465b-850c-9c24f98492ce"
      },
      "execution_count": null,
      "outputs": [
        {
          "output_type": "stream",
          "name": "stdout",
          "text": [
            "2020\n"
          ]
        }
      ]
    },
    {
      "cell_type": "code",
      "source": [
        "Tuple1=(1,2,3)\n",
        "Tuple2=(3,2,1)\n",
        "result=list(map(lambda x,y : x+y, Tuple1,Tuple2))\n",
        "print(result)"
      ],
      "metadata": {
        "colab": {
          "base_uri": "https://localhost:8080/"
        },
        "id": "pI39vRj1jpxN",
        "outputId": "3633f0f6-8591-44d7-b504-6123f72a6b35"
      },
      "execution_count": null,
      "outputs": [
        {
          "output_type": "stream",
          "name": "stdout",
          "text": [
            "[4, 4, 4]\n"
          ]
        }
      ]
    },
    {
      "cell_type": "code",
      "source": [
        "def myfunc(a,b):\n",
        "  return a+b  \n",
        "result= list(map(myfunc,(1,2,3),(3,2,5)))    \n",
        "result"
      ],
      "metadata": {
        "colab": {
          "base_uri": "https://localhost:8080/"
        },
        "id": "-nwmgZ_6qisE",
        "outputId": "1064a8f7-1236-44de-ad62-1253adeedfaa"
      },
      "execution_count": null,
      "outputs": [
        {
          "output_type": "execute_result",
          "data": {
            "text/plain": [
              "[4, 4, 8]"
            ]
          },
          "metadata": {},
          "execution_count": 21
        }
      ]
    },
    {
      "cell_type": "code",
      "source": [
        ""
      ],
      "metadata": {
        "id": "mCVNRcGctVz7"
      },
      "execution_count": null,
      "outputs": []
    }
  ]
}